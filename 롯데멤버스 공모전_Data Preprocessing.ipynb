{
 "cells": [
  {
   "cell_type": "code",
   "execution_count": 1,
   "id": "b83b72ca",
   "metadata": {},
   "outputs": [],
   "source": [
    "import pandas as pd\n",
    "import numpy as np\n",
    "import seaborn as sns\n",
    "import matplotlib.pyplot as plt\n",
    "import warnings\n",
    "warnings.filterwarnings(action = 'ignore')\n",
    "warnings.filterwarnings('ignore')"
   ]
  },
  {
   "cell_type": "code",
   "execution_count": 2,
   "id": "d15a3a1c",
   "metadata": {},
   "outputs": [],
   "source": [
    "# 한글꺠지는 것 방지\n",
    "from matplotlib import font_manager, rc\n",
    "font_path = \"C:/Windows/Fonts/NGULIM.TTF\"\n",
    "font = font_manager.FontProperties(fname=font_path).get_name()\n",
    "rc('font', family=font)"
   ]
  },
  {
   "cell_type": "markdown",
   "id": "a4fcdef9",
   "metadata": {},
   "source": [
    "# Data Loading"
   ]
  },
  {
   "cell_type": "code",
   "execution_count": 3,
   "id": "2f8862e6",
   "metadata": {},
   "outputs": [],
   "source": [
    "demo = pd.read_csv('C:/Users/wnrrh/Desktop/태준/롯데멤버스/LPOINT_BIG_COMP_01_DEMO.csv', encoding = 'utf-8', delimiter = ',')\n",
    "pdde = pd.read_csv('C:/Users/wnrrh/Desktop/태준/롯데멤버스/LPOINT_BIG_COMP_02_PDDE.csv', encoding = 'utf-8', delimiter = ',')\n",
    "copu = pd.read_csv('C:/Users/wnrrh/Desktop/태준/롯데멤버스/LPOINT_BIG_COMP_03_COP_U.csv', encoding = 'utf-8', delimiter = ',')\n",
    "clac = pd.read_csv('C:/Users/wnrrh/Desktop/태준/롯데멤버스/LPOINT_BIG_COMP_04_PD_CLAC.csv', encoding = 'utf-8', delimiter = ',')\n",
    "br = pd.read_csv('C:/Users/wnrrh/Desktop/태준/롯데멤버스/LPOINT_BIG_COMP_05_BR.csv', encoding = 'utf-8', delimiter = ',')\n",
    "lpay = pd.read_csv('C:/Users/wnrrh/Desktop/태준/롯데멤버스/LPOINT_BIG_COMP_06_LPAY.csv', encoding = 'utf-8', delimiter = ',')"
   ]
  },
  {
   "cell_type": "code",
   "execution_count": 4,
   "id": "3b882a8f",
   "metadata": {},
   "outputs": [],
   "source": [
    "demo.rename(columns={'cust':'고객코드', 'ma_fem_dv':'성별', 'ages':'연령대', 'zon_hlv':'거주지대분류코드'},inplace=True)\n",
    "pdde.rename(columns = {'cust':'고객코드', 'rct_no':'영수증번호', 'chnl_dv':'채널구분', 'cop_c':'제휴사', 'br_c':'점포코드', 'pd_c':'상품코드', 'de_dt':'구매일자', 'de_hr':'구매시간', 'buy_am':'구매금액', 'buy_ct':'구매수량'}, inplace=True)\n",
    "copu.rename(columns = {'cust':'고객코드', 'rct_no':'영수증번호', 'chnl_dv':'채널구분', 'cop_c':'제휴사', 'br_c':'점포코드', 'pd_c':'상품코드', 'de_dt':'구매일자', 'vst_dt':'제휴사 방문일자', 'de_hr':'구매시간', 'buy_am':'구매금액'}, inplace=True)\n",
    "clac.rename(columns = {'pd_c':'상품코드','pd_nm':'상품 소분류명', 'clac_hlv_nm':'상품 대분류명','clac_mcls_nm':'상품 중분류명'},inplace=True)\n",
    "br.rename(columns = {'br_c':'점포코드', 'cop_c':'제휴사', 'zon_hlv':'점포지역대분류코드','zon_mcls':'점포지역중분류코드'},inplace=True)\n",
    "lpay.rename(columns = {'cust':'고객코드','rct_no':'영수증번호', 'cop_c':'제휴사', 'chnl_dv':'채널구분','de_dt':'구매일자', 'de_hr':'구매시간', 'buy_am':'구매금액'},inplace=True)"
   ]
  },
  {
   "cell_type": "code",
   "execution_count": 5,
   "id": "5965c410",
   "metadata": {},
   "outputs": [
    {
     "data": {
      "text/plain": [
       "<AxesSubplot:>"
      ]
     },
     "execution_count": 5,
     "metadata": {},
     "output_type": "execute_result"
    },
    {
     "data": {
      "image/png": "[encoded data removed]",
      "text/plain": [
       "<Figure size 1080x1080 with 2 Axes>"
      ]
     },
     "metadata": {
      "needs_background": "light"
     },
     "output_type": "display_data"
    }
   ],
   "source": [
    "plt.figure(figsize=(15,15))\n",
    "sns.heatmap(data = copu.corr(), annot=True, \n",
    "fmt = '.2f', linewidths=.5, cmap='Blues')"
   ]
  },
  {
   "cell_type": "code",
   "execution_count": 6,
   "id": "5028c162",
   "metadata": {},
   "outputs": [],
   "source": [
    "pdde['타입'] = 'Product'\n",
    "copu['타입'] = 'Affiliate'\n",
    "lpay['타입'] = 'Lpay'\n",
    "copu['구매수량'] = 0\n",
    "copu['상품코드'] = np.nan\n",
    "lpay['점포코드'] = np.nan\n",
    "lpay['상품코드'] = np.nan\n",
    "lpay['구매수량'] = 0"
   ]
  },
  {
   "cell_type": "code",
   "execution_count": 7,
   "id": "25988716",
   "metadata": {},
   "outputs": [],
   "source": [
    "copu = copu[['고객코드','영수증번호','채널구분','제휴사','점포코드','상품코드','구매일자','구매시간','구매금액','구매수량','타입']]\n",
    "lpay = lpay[['고객코드','영수증번호','채널구분','제휴사','점포코드','상품코드','구매일자','구매시간','구매금액','구매수량','타입']]"
   ]
  },
  {
   "cell_type": "code",
   "execution_count": 8,
   "id": "5589693d",
   "metadata": {},
   "outputs": [],
   "source": [
    "lpay['영수증번호'] = lpay['영수증번호'].astype('object')\n",
    "lpay['점포코드'] = lpay['점포코드'].astype('object')\n",
    "copu['상품코드'] = copu['상품코드'].astype('object')\n",
    "lpay['상품코드'] = lpay['상품코드'].astype('object')\n",
    "pdde['구매금액'] = pdde['구매금액'].astype('int')"
   ]
  },
  {
   "cell_type": "code",
   "execution_count": 9,
   "id": "d89bacd5",
   "metadata": {},
   "outputs": [],
   "source": [
    "df = pd.concat([pdde,copu,lpay])"
   ]
  },
  {
   "cell_type": "code",
   "execution_count": 10,
   "id": "e6b5755b",
   "metadata": {},
   "outputs": [],
   "source": [
    "df = pd.merge(df,demo, on = ['고객코드'], how = 'left')"
   ]
  },
  {
   "cell_type": "code",
   "execution_count": 11,
   "id": "d2d2e937",
   "metadata": {},
   "outputs": [],
   "source": [
    "df = pd.merge(df,br, on = ['점포코드','제휴사'], how = 'left')"
   ]
  },
  {
   "cell_type": "code",
   "execution_count": 12,
   "id": "37fa567f",
   "metadata": {},
   "outputs": [],
   "source": [
    "df = pd.merge(df,clac, on = ['상품코드'], how = 'left')"
   ]
  },
  {
   "cell_type": "code",
   "execution_count": 13,
   "id": "c5f8b7b6",
   "metadata": {},
   "outputs": [
    {
     "data": {
      "text/plain": [
       "고객코드              0\n",
       "영수증번호             0\n",
       "채널구분              0\n",
       "제휴사               0\n",
       "점포코드         781740\n",
       "상품코드         601488\n",
       "구매일자              0\n",
       "구매시간              0\n",
       "구매금액              0\n",
       "구매수량              0\n",
       "타입                0\n",
       "성별                0\n",
       "연령대               0\n",
       "거주지대분류코드          0\n",
       "점포지역대분류코드    781740\n",
       "점포지역중분류코드    781740\n",
       "상품 소분류명      601488\n",
       "상품 대분류명      601488\n",
       "상품 중분류명      601488\n",
       "dtype: int64"
      ]
     },
     "execution_count": 13,
     "metadata": {},
     "output_type": "execute_result"
    }
   ],
   "source": [
    "df.isnull().sum()"
   ]
  },
  {
   "cell_type": "markdown",
   "id": "105f75ce",
   "metadata": {},
   "source": [
    "## 결측치 왜 생겼는지 확인 "
   ]
  },
  {
   "cell_type": "code",
   "execution_count": 15,
   "id": "349cc72e",
   "metadata": {},
   "outputs": [
    {
     "name": "stdout",
     "output_type": "stream",
     "text": [
      "고객코드          0\n",
      "영수증번호         0\n",
      "채널구분          0\n",
      "제휴사           0\n",
      "점포코드     353184\n",
      "상품코드     353184\n",
      "구매일자          0\n",
      "구매시간          0\n",
      "구매금액          0\n",
      "구매수량          0\n",
      "타입            0\n",
      "dtype: int64\n",
      "------------------------------\n",
      "고객코드          0\n",
      "영수증번호         0\n",
      "채널구분          0\n",
      "제휴사           0\n",
      "점포코드         55\n",
      "상품코드     248304\n",
      "구매일자          0\n",
      "구매시간          0\n",
      "구매금액          0\n",
      "구매수량          0\n",
      "타입            0\n",
      "dtype: int64\n",
      "------------------------------\n",
      "고객코드          0\n",
      "영수증번호         0\n",
      "채널구분          0\n",
      "제휴사           0\n",
      "점포코드     428501\n",
      "상품코드          0\n",
      "구매일자          0\n",
      "구매시간          0\n",
      "구매금액          0\n",
      "구매수량          0\n",
      "타입            0\n",
      "dtype: int64\n"
     ]
    }
   ],
   "source": [
    "print(lpay.isnull().sum())\n",
    "print('------------------------------')\n",
    "print(copu.isnull().sum())\n",
    "print('------------------------------')\n",
    "print(pdde.isnull().sum())"
   ]
  },
  {
   "cell_type": "markdown",
   "id": "d7792afd",
   "metadata": {},
   "source": [
    "# 데이터프레임 분할하여 엘페이 이력 중복처리 "
   ]
  },
  {
   "cell_type": "code",
   "execution_count": 16,
   "id": "5fd716da",
   "metadata": {},
   "outputs": [],
   "source": [
    "df_product = df[df['타입'] == 'Product']\n",
    "df_aff = df[df['타입'] == 'Affiliate']\n",
    "df_lpay = df[df['타입'] == 'Lpay']"
   ]
  },
  {
   "cell_type": "code",
   "execution_count": 17,
   "id": "2add8282",
   "metadata": {},
   "outputs": [],
   "source": [
    "# 한 row 내 모든 데이터 값이 동일한 row인 경우 중복제거 처리 첫값은 False, 이후 중복되면 False\n",
    "product_row = df_product.duplicated(['고객코드','영수증번호','채널구분','제휴사','점포코드','상품코드','구매일자','구매시간','구매금액','구매수량','타입','성별','연령대','거주지대분류코드','점포지역대분류코드','점포지역중분류코드','상품 소분류명','상품 대분류명', '상품 중분류명'], keep='first')"
   ]
  },
  {
   "cell_type": "code",
   "execution_count": 18,
   "id": "063d5c94",
   "metadata": {},
   "outputs": [],
   "source": [
    "df_product = pd.concat([df_product, product_row], axis=1)"
   ]
  },
  {
   "cell_type": "code",
   "execution_count": 19,
   "id": "04f02f45",
   "metadata": {},
   "outputs": [
    {
     "data": {
      "text/plain": [
       "False    4144389\n",
       "True      237354\n",
       "Name: 0, dtype: int64"
      ]
     },
     "execution_count": 19,
     "metadata": {},
     "output_type": "execute_result"
    }
   ],
   "source": [
    "df_product[0].value_counts()"
   ]
  },
  {
   "cell_type": "code",
   "execution_count": null,
   "id": "b498e6c4",
   "metadata": {},
   "outputs": [],
   "source": [
    "# 중복값 제거 \n",
    "df_product.rename(columns = {0:'중복값 기준'},inplace=True)"
   ]
  }
 ],
 "metadata": {
  "kernelspec": {
   "display_name": "Python 3 (ipykernel)",
   "language": "python",
   "name": "python3"
  },
  "language_info": {
   "codemirror_mode": {
    "name": "ipython",
    "version": 3
   },
   "file_extension": ".py",
   "mimetype": "text/x-python",
   "name": "python",
   "nbconvert_exporter": "python",
   "pygments_lexer": "ipython3",
   "version": "3.8.12"
  },
  "toc": {
   "base_numbering": 1,
   "nav_menu": {},
   "number_sections": true,
   "sideBar": true,
   "skip_h1_title": false,
   "title_cell": "Table of Contents",
   "title_sidebar": "Contents",
   "toc_cell": false,
   "toc_position": {},
   "toc_section_display": true,
   "toc_window_display": false
  },
  "varInspector": {
   "cols": {
    "lenName": 16,
    "lenType": 16,
    "lenVar": 40
   },
   "kernels_config": {
    "python": {
     "delete_cmd_postfix": "",
     "delete_cmd_prefix": "del ",
     "library": "var_list.py",
     "varRefreshCmd": "print(var_dic_list())"
    },
    "r": {
     "delete_cmd_postfix": ") ",
     "delete_cmd_prefix": "rm(",
     "library": "var_list.r",
     "varRefreshCmd": "cat(var_dic_list()) "
    }
   },
   "types_to_exclude": [
    "module",
    "function",
    "builtin_function_or_method",
    "instance",
    "_Feature"
   ],
   "window_display": false
  }
 },
 "nbformat": 4,
 "nbformat_minor": 5
}
